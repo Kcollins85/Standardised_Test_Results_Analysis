{
 "cells": [
  {
   "cell_type": "code",
   "execution_count": 3,
   "id": "d57781ae",
   "metadata": {},
   "outputs": [
    {
     "data": {
      "text/html": [
       "<div>\n",
       "<style scoped>\n",
       "    .dataframe tbody tr th:only-of-type {\n",
       "        vertical-align: middle;\n",
       "    }\n",
       "\n",
       "    .dataframe tbody tr th {\n",
       "        vertical-align: top;\n",
       "    }\n",
       "\n",
       "    .dataframe thead th {\n",
       "        text-align: right;\n",
       "    }\n",
       "</style>\n",
       "<table border=\"1\" class=\"dataframe\">\n",
       "  <thead>\n",
       "    <tr style=\"text-align: right;\">\n",
       "      <th></th>\n",
       "      <th>Student ID</th>\n",
       "      <th>student_name</th>\n",
       "      <th>gender</th>\n",
       "      <th>year</th>\n",
       "      <th>school_name</th>\n",
       "      <th>reading_score</th>\n",
       "      <th>maths_score</th>\n",
       "      <th>School ID</th>\n",
       "      <th>type</th>\n",
       "      <th>size</th>\n",
       "      <th>budget</th>\n",
       "    </tr>\n",
       "  </thead>\n",
       "  <tbody>\n",
       "    <tr>\n",
       "      <th>0</th>\n",
       "      <td>0</td>\n",
       "      <td>Paul Bradley</td>\n",
       "      <td>M</td>\n",
       "      <td>9</td>\n",
       "      <td>Huang High School</td>\n",
       "      <td>96</td>\n",
       "      <td>94</td>\n",
       "      <td>0</td>\n",
       "      <td>Government</td>\n",
       "      <td>2917</td>\n",
       "      <td>1910635</td>\n",
       "    </tr>\n",
       "    <tr>\n",
       "      <th>1</th>\n",
       "      <td>1</td>\n",
       "      <td>Victor Smith</td>\n",
       "      <td>M</td>\n",
       "      <td>12</td>\n",
       "      <td>Huang High School</td>\n",
       "      <td>90</td>\n",
       "      <td>43</td>\n",
       "      <td>0</td>\n",
       "      <td>Government</td>\n",
       "      <td>2917</td>\n",
       "      <td>1910635</td>\n",
       "    </tr>\n",
       "    <tr>\n",
       "      <th>2</th>\n",
       "      <td>2</td>\n",
       "      <td>Kevin Rodriguez</td>\n",
       "      <td>M</td>\n",
       "      <td>12</td>\n",
       "      <td>Huang High School</td>\n",
       "      <td>41</td>\n",
       "      <td>76</td>\n",
       "      <td>0</td>\n",
       "      <td>Government</td>\n",
       "      <td>2917</td>\n",
       "      <td>1910635</td>\n",
       "    </tr>\n",
       "    <tr>\n",
       "      <th>3</th>\n",
       "      <td>3</td>\n",
       "      <td>Richard Scott</td>\n",
       "      <td>M</td>\n",
       "      <td>12</td>\n",
       "      <td>Huang High School</td>\n",
       "      <td>89</td>\n",
       "      <td>86</td>\n",
       "      <td>0</td>\n",
       "      <td>Government</td>\n",
       "      <td>2917</td>\n",
       "      <td>1910635</td>\n",
       "    </tr>\n",
       "    <tr>\n",
       "      <th>4</th>\n",
       "      <td>4</td>\n",
       "      <td>Bonnie Ray</td>\n",
       "      <td>F</td>\n",
       "      <td>9</td>\n",
       "      <td>Huang High School</td>\n",
       "      <td>87</td>\n",
       "      <td>69</td>\n",
       "      <td>0</td>\n",
       "      <td>Government</td>\n",
       "      <td>2917</td>\n",
       "      <td>1910635</td>\n",
       "    </tr>\n",
       "  </tbody>\n",
       "</table>\n",
       "</div>"
      ],
      "text/plain": [
       "   Student ID     student_name gender  year        school_name  reading_score  \\\n",
       "0           0     Paul Bradley      M     9  Huang High School             96   \n",
       "1           1     Victor Smith      M    12  Huang High School             90   \n",
       "2           2  Kevin Rodriguez      M    12  Huang High School             41   \n",
       "3           3    Richard Scott      M    12  Huang High School             89   \n",
       "4           4       Bonnie Ray      F     9  Huang High School             87   \n",
       "\n",
       "   maths_score  School ID        type  size   budget  \n",
       "0           94          0  Government  2917  1910635  \n",
       "1           43          0  Government  2917  1910635  \n",
       "2           76          0  Government  2917  1910635  \n",
       "3           86          0  Government  2917  1910635  \n",
       "4           69          0  Government  2917  1910635  "
      ]
     },
     "execution_count": 3,
     "metadata": {},
     "output_type": "execute_result"
    }
   ],
   "source": [
    "# Dependencies and Setup\n",
    "import pandas as pd\n",
    "\n",
    "# File to Load (Remember to Change These)\n",
    "school_data_to_load = \"Resources/schools_complete.csv\"\n",
    "student_data_to_load = \"Resources/students_complete.csv\"\n",
    "\n",
    "# Read School and Student Data File and store into Pandas DataFrames\n",
    "school_data = pd.read_csv(school_data_to_load)\n",
    "student_data = pd.read_csv(student_data_to_load)\n",
    "\n",
    "# Combine the data into a single dataset.  \n",
    "school_data_complete = pd.merge(student_data, school_data, how=\"left\", on=[\"school_name\", \"school_name\"])\n",
    "school_data_complete.head()"
   ]
  },
  {
   "cell_type": "code",
   "execution_count": 103,
   "id": "21c8d080",
   "metadata": {},
   "outputs": [
    {
     "data": {
      "text/plain": [
       "15"
      ]
     },
     "execution_count": 103,
     "metadata": {},
     "output_type": "execute_result"
    }
   ],
   "source": [
    "#local government area summary\n",
    "# Calculate the total number of schools\n",
    "school_total = school_data[\"school_name\"].count()\n",
    "school_total"
   ]
  },
  {
   "cell_type": "code",
   "execution_count": 104,
   "id": "5d1b269d",
   "metadata": {},
   "outputs": [
    {
     "data": {
      "text/plain": [
       "39170"
      ]
     },
     "execution_count": 104,
     "metadata": {},
     "output_type": "execute_result"
    }
   ],
   "source": [
    "# Calculate the total number of students\n",
    "student_total = student_data[\"student_name\"].count()\n",
    "student_total"
   ]
  },
  {
   "cell_type": "code",
   "execution_count": 105,
   "id": "a67aea1b",
   "metadata": {},
   "outputs": [
    {
     "data": {
      "text/plain": [
       "24649428"
      ]
     },
     "execution_count": 105,
     "metadata": {},
     "output_type": "execute_result"
    }
   ],
   "source": [
    "# # Calculate the total budget\n",
    "total_budget = school_data[\"budget\"].sum()\n",
    "total_budget"
   ]
  },
  {
   "cell_type": "code",
   "execution_count": 108,
   "id": "b55daee0",
   "metadata": {},
   "outputs": [
    {
     "data": {
      "text/plain": [
       "70.33819249425581"
      ]
     },
     "execution_count": 108,
     "metadata": {},
     "output_type": "execute_result"
    }
   ],
   "source": [
    "# Calculate the average maths score\n",
    "maths_average = school_data_complete[\"maths_score\"].mean()\n",
    "maths_average\n"
   ]
  },
  {
   "cell_type": "code",
   "execution_count": 109,
   "id": "4512b166",
   "metadata": {},
   "outputs": [
    {
     "data": {
      "text/plain": [
       "69.98013786060761"
      ]
     },
     "execution_count": 109,
     "metadata": {},
     "output_type": "execute_result"
    }
   ],
   "source": [
    "# Calculate the average reading score\n",
    "reading_average = school_data_complete[\"reading_score\"].mean()\n",
    "reading_average"
   ]
  },
  {
   "cell_type": "code",
   "execution_count": 122,
   "id": "fa354e74",
   "metadata": {},
   "outputs": [
    {
     "data": {
      "text/plain": [
       "86.07863160582077"
      ]
     },
     "execution_count": 122,
     "metadata": {},
     "output_type": "execute_result"
    }
   ],
   "source": [
    "# Calculate the percentage of students with a passing maths score (50 or greater)\n",
    "#count the number of students with a grade of over 50 & find the percentage based on the total number of students\n",
    "mathpass = school_data_complete.loc[school_data_complete[\"maths_score\"] >=50]\n",
    "mathpasscount = mathpass[\"Student ID\"].count()\n",
    "mathpercentpass = (mathpasscount / student_total) *100\n",
    "mathpercentpass"
   ]
  },
  {
   "cell_type": "code",
   "execution_count": 123,
   "id": "87f9252c",
   "metadata": {},
   "outputs": [
    {
     "data": {
      "text/plain": [
       "84.42685728874139"
      ]
     },
     "execution_count": 123,
     "metadata": {},
     "output_type": "execute_result"
    }
   ],
   "source": [
    "# Calculate the percentage of students with a passing reading score (50 or greater)\n",
    "#count the number of students with a grade of over 50 & find the percentage based on the total number of students\n",
    "readpass = school_data_complete.loc[school_data_complete[\"reading_score\"] >=50]\n",
    "readpasscount = readpass[\"Student ID\"].count()\n",
    "readpercentpass = (readpasscount / student_total) *100\n",
    "readpercentpass"
   ]
  },
  {
   "cell_type": "code",
   "execution_count": 143,
   "id": "22bd32c0",
   "metadata": {},
   "outputs": [
    {
     "data": {
      "text/plain": [
       "72.80827163645647"
      ]
     },
     "execution_count": 143,
     "metadata": {},
     "output_type": "execute_result"
    }
   ],
   "source": [
    "# Calculate the percentage of students who passed maths and reading (% Overall Passing)\n",
    "overallpass = school_data_complete[(school_data_complete[\"reading_score\"] >=50) & (school_data_complete[\"maths_score\"] >=50)][\"Student ID\"].count()\n",
    "overall = (overallpass / student_total) *100\n",
    "overall"
   ]
  },
  {
   "cell_type": "code",
   "execution_count": 170,
   "id": "4c021343",
   "metadata": {},
   "outputs": [
    {
     "data": {
      "text/html": [
       "<div>\n",
       "<style scoped>\n",
       "    .dataframe tbody tr th:only-of-type {\n",
       "        vertical-align: middle;\n",
       "    }\n",
       "\n",
       "    .dataframe tbody tr th {\n",
       "        vertical-align: top;\n",
       "    }\n",
       "\n",
       "    .dataframe thead th {\n",
       "        text-align: right;\n",
       "    }\n",
       "</style>\n",
       "<table border=\"1\" class=\"dataframe\">\n",
       "  <thead>\n",
       "    <tr style=\"text-align: right;\">\n",
       "      <th></th>\n",
       "      <th>Total Schools</th>\n",
       "      <th>Total Students</th>\n",
       "      <th>Total Budget</th>\n",
       "      <th>Average Maths Score</th>\n",
       "      <th>Average Reading Score</th>\n",
       "      <th>Maths pass percent</th>\n",
       "      <th>Reading Pass percent</th>\n",
       "      <th>Overall Pass percent</th>\n",
       "    </tr>\n",
       "  </thead>\n",
       "  <tbody>\n",
       "    <tr>\n",
       "      <th>0</th>\n",
       "      <td>15</td>\n",
       "      <td>39170</td>\n",
       "      <td>$24,649,428.00</td>\n",
       "      <td>70.338</td>\n",
       "      <td>69.980</td>\n",
       "      <td>86.079</td>\n",
       "      <td>84.427</td>\n",
       "      <td>72.808</td>\n",
       "    </tr>\n",
       "  </tbody>\n",
       "</table>\n",
       "</div>"
      ],
      "text/plain": [
       "   Total Schools  Total Students    Total Budget Average Maths Score  \\\n",
       "0             15           39170  $24,649,428.00              70.338   \n",
       "\n",
       "  Average Reading Score Maths pass percent Reading Pass percent  \\\n",
       "0                69.980             86.079               84.427   \n",
       "\n",
       "  Overall Pass percent  \n",
       "0               72.808  "
      ]
     },
     "execution_count": 170,
     "metadata": {},
     "output_type": "execute_result"
    }
   ],
   "source": [
    "# Create a dataframe to hold the above results\n",
    "# Optional: give the displayed data cleaner formatting\n",
    "school_summary_df = pd.DataFrame(\n",
    "{\"Total Schools\": [school_total],\n",
    "    \"Total Students\": [student_total],\n",
    "    \"Total Budget\": f\"${total_budget:,.2f}\",\n",
    "     \"Average Maths Score\": f\"{maths_average:,.3f}\",\n",
    "     \"Average Reading Score\": f\"{reading_average:,.3f}\",\n",
    "    \"Maths pass percent\": f\"{mathpercentpass:,.3f}\",\n",
    "    \"Reading Pass percent\": f\"{readpercentpass:,.3f}\",\n",
    "    \"Overall Pass percent\": f\"{overall:,.3f}\"\n",
    "})\n",
    "\n",
    "school_summary_df.head()"
   ]
  },
  {
   "cell_type": "code",
   "execution_count": 218,
   "id": "a37ba3bb",
   "metadata": {},
   "outputs": [
    {
     "data": {
      "text/plain": [
       "school_name\n",
       "Bailey High School       [628.0]\n",
       "Cabrera High School      [582.0]\n",
       "Figueroa High School     [639.0]\n",
       "Ford High School         [644.0]\n",
       "Griffin High School      [625.0]\n",
       "Hernandez High School    [652.0]\n",
       "Holden High School       [581.0]\n",
       "Huang High School        [655.0]\n",
       "Johnson High School      [650.0]\n",
       "Pena High School         [609.0]\n",
       "Rodriguez High School    [637.0]\n",
       "Shelton High School      [600.0]\n",
       "Thomas High School       [638.0]\n",
       "Wilson High School       [578.0]\n",
       "Wright High School       [583.0]\n",
       "dtype: object"
      ]
     },
     "execution_count": 218,
     "metadata": {},
     "output_type": "execute_result"
    }
   ],
   "source": [
    "#School Summary\n",
    "# Create an overview table that summarises key metrics about each school, including:\n",
    "\n",
    "#create the school grouping\n",
    "#   School Name\n",
    "school_name = school_data_complete.set_index([\"school_name\"]).groupby([\"school_name\"])\n",
    "# school_name.head()\n",
    "\n",
    "#   School Type\n",
    "# school_type = school_name(\"school_name\")[\"type\"]\n",
    "# school_type\n",
    "\n",
    "#   Total Students\n",
    "student_count = school_name[\"Student ID\"].count()\n",
    "# student_count\n",
    "#   Total School Budget\n",
    "school_budget = school_name[\"budget\"].unique()\n",
    "# school_budget\n",
    "#   Per Student Budget\n",
    "student_budget = (school_budget) / (student_count)\n",
    "# student_budget\n",
    "#   Average Maths Score\n",
    "\n",
    "#   Average Reading Score\n",
    "#   % Passing Maths\n",
    "#   % Passing Reading\n",
    "#   % Overall Passing (The percentage of students that passed maths **and** reading.)\n",
    "  \n",
    "\n",
    "\n",
    "\n",
    "# * Create a dataframe to hold the above results\n",
    "#   school_data_complete = pf.DataFrame"
   ]
  },
  {
   "cell_type": "code",
   "execution_count": null,
   "id": "bc414ab6",
   "metadata": {},
   "outputs": [],
   "source": []
  },
  {
   "cell_type": "code",
   "execution_count": null,
   "id": "1a305b33",
   "metadata": {},
   "outputs": [],
   "source": []
  }
 ],
 "metadata": {
  "kernelspec": {
   "display_name": "Python 3 (ipykernel)",
   "language": "python",
   "name": "python3"
  },
  "language_info": {
   "codemirror_mode": {
    "name": "ipython",
    "version": 3
   },
   "file_extension": ".py",
   "mimetype": "text/x-python",
   "name": "python",
   "nbconvert_exporter": "python",
   "pygments_lexer": "ipython3",
   "version": "3.7.7"
  }
 },
 "nbformat": 4,
 "nbformat_minor": 5
}
